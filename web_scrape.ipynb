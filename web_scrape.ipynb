{
 "cells": [
  {
   "cell_type": "code",
   "execution_count": 4,
   "metadata": {},
   "outputs": [],
   "source": [
    "import requests\n",
    "from bs4 import BeautifulSoup as bs\n",
    "import urllib"
   ]
  },
  {
   "cell_type": "code",
   "execution_count": 5,
   "metadata": {},
   "outputs": [],
   "source": [
    "url = \"https://medlineplus.gov/lab-tests/\""
   ]
  },
  {
   "cell_type": "code",
   "execution_count": null,
   "metadata": {},
   "outputs": [],
   "source": [
    "res = requests.get(url)\n",
    "html = bs(res.content,'html.parser')\n",
    "html"
   ]
  },
  {
   "cell_type": "code",
   "execution_count": 11,
   "metadata": {},
   "outputs": [],
   "source": [
    "id = ['section_'+chr(x+65) for x in range(26)]"
   ]
  },
  {
   "cell_type": "code",
   "execution_count": null,
   "metadata": {},
   "outputs": [],
   "source": [
    "links = html.find_all('div',id=id[0])\n",
    "links = [i.find_all('li') for i in links][0]\n",
    "# print(links[0][0].find('a').get('href'))\n",
    "links = [t.find('a').get('href') for t in links]\n",
    "# links[0].find('a').get('href')"
   ]
  },
  {
   "cell_type": "code",
   "execution_count": null,
   "metadata": {},
   "outputs": [],
   "source": [
    "links =[]\n",
    "for i in id:\n",
    "    try:\n",
    "        # print(i)\n",
    "        temp = html.find_all('div',id=i)\n",
    "        temp = [j.find_all('li') for j in temp][0]\n",
    "        temp = [t.find('a').get('href') for t in temp]\n",
    "       \n",
    "    except:\n",
    "        print(i)\n",
    "    \n",
    "    links = links+temp\n",
    "\n",
    "links\n",
    "\n"
   ]
  },
  {
   "cell_type": "code",
   "execution_count": null,
   "metadata": {},
   "outputs": [],
   "source": [
    "u=links[\"section_A\"][0]\n",
    "res2 = requests.get(u)\n",
    "get = bs(res2.content,'html.parser')\n",
    "# get.find_all('div',class_ = 'mp-content')\n",
    "get"
   ]
  },
  {
   "cell_type": "code",
   "execution_count": 108,
   "metadata": {},
   "outputs": [
    {
     "data": {
      "text/plain": [
       "\"Acetaminophen Level : 1\\nWhat is an acetaminophen level test? This test measures the amount of acetaminophen in the blood. Acetaminophen is one of the most common medicines used in over-the-counter pain relievers and fever reducers. It is found in more than 200 brand name medicines. These include Tylenol, Excedrin, Nyquil, and Paracetamol, which is commonly found outside the U. S. Acetaminophen is safe and effective when taken at the proper dose. But an overdose can cause serious and sometimes deadly liver damage. Unfortunately, dosing mistakes are common. Reasons for this include: Taking more than one medicine that contains acetaminophen. Many cold, flu, and allergy medicines contain acetaminophen. If you take more than one medicine with acetaminophen, you may end up taking an unsafe dose without realizing it Not following dose recommendations. The adult maximum dose is generally 4000 mgs in 24 hours. But that may be too much for some people. So it may be safer to limit your dose to 3000 mgs per day. Children's dosing recommendations depend on their weight and age. Giving a child an adult version of the medicine, rather than a version designed for children If you think you or your child has taken too much acetaminophen, call your health care provider right away. You may need to be tested and treated in the emergency room. Other names: acetaminophen drug test, acetaminophen blood test, Paracetamol test, Tylenol drug test1\\nWhat is it used for? The test is used to find out if you or your child has taken too much acetaminophen.1\\nWhy do I need an acetaminophen level test? Your provider may order a test if you or your child has symptoms of an overdose. Symptoms may happen as soon as two to three hours after taking the medicine but can take as long as 12 hours to appear. Symptoms in adults and children are similar and may include: Nausea and vomiting Diarrhea Abdominal pain Loss of appetite Fatigue Irritability Sweating Jaundice, a condition that causes your skin and eyes to turn yellow1\\nWhat happens during an acetaminophen level test? A health care professional will take a blood sample from a vein in your arm, using a small needle. After the needle is inserted, a small amount of blood will be collected into a test tube or vial. You may feel a little sting when the needle goes in or out. This usually takes less than five minutes.1\\nWill I need to do anything to prepare for the test? You don't need any special preparations for an acetaminophen level test.1\\nAre there any risks to an acetaminophen level test? There is very little risk to having a blood test. You may have slight pain or bruising at the spot where the needle was put in, but most symptoms go away quickly.1\\nWhat do the results mean? If results show a high level of acetaminophen, you or your child may be at risk for liver damage and may need immediate treatment. The type of treatment will depend on how much excess acetaminophen is in your system. After you get your results, your provider may repeat this test every four to six hours to make sure you are out of danger. If you have questions about your results, talk to your health care provider. Learn more about laboratory tests, reference ranges, and understanding results.1\\nIs there anything else I need to know about an acetaminophen level test? Before you or your child take any medicine, read the label carefully. Make sure that you only use the recommended dose. Check the ingredient list to see whether the medicines contain acetaminophen, so that you don't take too much. Common medicines that contain acetaminophen include: Nyquil Dayquil Dristan Contact Theraflu Actifed Mucinex Sudafed Also, if you drink three or more alcoholic beverages a day, ask your health care provider if it is safe to take acetaminophen. Drinking alcohol while taking acetaminophen can increase your risk of liver damage.1\\nReferences CHOC Children's [Internet]. Orange (CA): CHOC Children's; c2020. The Dangers of Acetaminophen for Children; [cited 2020 Mar 18]; [about 3 screens]. Available from: https://www.choc.org/articles/the-dangers-of-acetaminophen-for-children ClinLab Navigator [Internet]. ClinLabNavigator; c2020. Acetaminophen; [cited 2020 Mar 18]; [about 2 screens]. Available from: http://www.clinlabnavigator.com/acetaminophen-tylenol-paracetamol.html Hinkle J, Cheever K. Brunner & Suddarth's Handbook of Laboratory and Diagnostic Tests. 2nd Ed, Kindle. Philadelphia: Wolters Kluwer Health, Lippincott Williams & Wilkins; c2014. Acetaminophen Level; p. 29. Know Your Dose.org: Acetaminophen Awareness Coalition [Internet]. Acetaminophen Awareness Coalition; c2019. Common Medicines Containing Acetaminophen; [cited 2020 Apr 7]; [about 3 screens]. Available from: https://www.knowyourdose.org/common-medicines Lab Tests Online [Internet]. Washington D.C.: American Association for Clinical Chemistry; c2001–2020. Acetaminophen; [updated 2019 Oct 7; cited 2020 Mar 18]; [about 2 screens]. Available from: https://labtestsonline.org/tests/acetaminophen Mayo Clinic [Internet]. Mayo Foundation for Medical Education and Research; c1998–2020. Acetaminophen and children: Why dose matters; 2020 Mar 12 [cited 2020 Mar 18]; [about 3 screens]. Available from: https://www.mayoclinic.org/healthy-lifestyle/childrens-health/in-depth/acetaminophen/art-20046721 Mayo Clinic Laboratories [Internet]. Mayo Foundation for Medical Education and Research; c1995–2020. Test ID: ACMA: Acetaminophen, Serum: Clinical and Interpretive; [cited 2020 Mar 18]; [about 4 screens]. Available from: https://www.mayocliniclabs.com/test-catalog/Clinical+and+Interpretive/37030 National Heart, Lung, and Blood Institute [Internet]. Bethesda (MD): U.S. Department of Health and Human Services; Blood Tests; [cited 2020 Mar 18]; [about 3 screens]. Available from: https://www.nhlbi.nih.gov/health-topics/blood-tests The Psychological Society [Internet]. Hoboken (NJ): John Wiley and Sons, Inc.; 2000–2020. Obstructive sleep apnoea and acetaminophen safety – is the liver at risk?; 2009 Jan [cited 2020 Mar 18]; [about 3 screens]. Available from: https://physoc.onlinelibrary.wiley.com/doi/full/10.1113/expphysiol.2008.045906 UF Health: University of Florida Health [Internet]. Gainesville (FL): University of Florida Health; c2020. Acetaminophen overdose: Overview; [updated 2020 Mar 18; cited 2020 Mar 18]; [about 2 screens]. Available from: https://ufhealth.org/acetaminophen-overdose University of Rochester Medical Center [Internet]. Rochester (NY): University of Rochester Medical Center; c2020. Health Encyclopedia: Acetaminophen Drug Level; [cited 2020 Mar 18]; [about 2 screens]. Available from: https://www.urmc.rochester.edu/encyclopedia/content.aspx?contenttypeid=167&contentid=acetaminophen_drug_level U.S. Pharmacist [Internet]. New York: Jobson Medical Information, LLC; c2000–2020. Acetaminophen Intoxication: A Critical Care Emergency; 2016 Dec 16 [cited 2020 Mar 18]; [about 3 screens]. Available from: https://www.uspharmacist.com/article/acetaminophen-intoxication-a-criticalcare-emergency\""
      ]
     },
     "execution_count": 108,
     "metadata": {},
     "output_type": "execute_result"
    }
   ],
   "source": [
    "def extract_text(url):\n",
    "    res = requests.get(url)\n",
    "    content = bs(res.content,'html.parser')\n",
    "    all_text = content.find_all('div',class_='mp-content')\n",
    "\n",
    "    heading = content.find_all('div',class_='page-title')[0].find_all('h1')[0].text\n",
    "    text = ''\n",
    "    for x in all_text:\n",
    "        x = x.find_all(['h1','h2','li','p'])\n",
    "        text = text + '1'+\" \".join([i.text for i in x])\n",
    "    return heading+\" : \"+text\n",
    "\n",
    "\n",
    "extract_text(links[0])"
   ]
  },
  {
   "cell_type": "code",
   "execution_count": 94,
   "metadata": {},
   "outputs": [],
   "source": [
    "final_text = []\n",
    "\n",
    "for link in links:\n",
    "    final_text.append(extract_text(link))\n"
   ]
  },
  {
   "cell_type": "code",
   "execution_count": 113,
   "metadata": {},
   "outputs": [],
   "source": [
    "with open(\"data.txt\", \"w\",encoding=\"utf-8\") as output:\n",
    "    output.write(\" \".join(final_text))\n",
    "\n"
   ]
  }
 ],
 "metadata": {
  "kernelspec": {
   "display_name": "venv",
   "language": "python",
   "name": "python3"
  },
  "language_info": {
   "codemirror_mode": {
    "name": "ipython",
    "version": 3
   },
   "file_extension": ".py",
   "mimetype": "text/x-python",
   "name": "python",
   "nbconvert_exporter": "python",
   "pygments_lexer": "ipython3",
   "version": "3.11.0"
  },
  "orig_nbformat": 4
 },
 "nbformat": 4,
 "nbformat_minor": 2
}
