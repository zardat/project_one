{
 "cells": [
  {
   "cell_type": "code",
   "execution_count": 50,
   "metadata": {},
   "outputs": [
    {
     "name": "stdout",
     "output_type": "stream",
     "text": [
      "Lenght of text is: 2911830\n",
      "Length of vocalbulary is: 106\n"
     ]
    }
   ],
   "source": [
    "with open(\"data.txt\", \"r\",encoding=\"utf-8\") as output:\n",
    "   text = output.read()\n",
    "text = text.replace('™','')\n",
    "vocab =sorted(list(set(text)))\n",
    "\n",
    "print('Lenght of text is:',len(text))\n",
    "print('Length of vocalbulary is:',len(vocab))"
   ]
  },
  {
   "cell_type": "code",
   "execution_count": 51,
   "metadata": {},
   "outputs": [
    {
     "data": {
      "text/plain": [
       "'Also look into the encoder used by openAi the tictoken\\n    https://github.com/openai/tiktoken'"
      ]
     },
     "execution_count": 51,
     "metadata": {},
     "output_type": "execute_result"
    }
   ],
   "source": [
    "s2i = {ch:i for i,ch in enumerate(vocab)}\n",
    "# s2i.pop('™')\n",
    "\n",
    "i2s = {i:ch for i,ch in enumerate(vocab)}\n",
    "# i2s.pop(106)\n",
    "\n",
    "# def encoder(string):\n",
    "#     lis = []\n",
    "#     for s in string:\n",
    "#         lis.append(s2i[s])\n",
    "    \n",
    "#     return lis\n",
    "encoder = lambda s:[s2i[x] for x in s]\n",
    "\n",
    "# def decoder(lis):\n",
    "#     s=''\n",
    "#     for i in lis:\n",
    "#       s+=i2s[i]\n",
    "#     return s\n",
    "decoder = lambda l: ''.join([i2s[x] for x in l])\n",
    "\n",
    "\n",
    "\"\"\"Look into sentencepiece encoding used by google\n",
    "    https://github.com/google/sentencepiece\"\"\"\n",
    "\n",
    "\"\"\"Also look into the encoder used by openAi the tictoken\n",
    "    https://github.com/openai/tiktoken\"\"\""
   ]
  },
  {
   "cell_type": "code",
   "execution_count": null,
   "metadata": {},
   "outputs": [],
   "source": [
    "import torch\n",
    "\n",
    "tensor = torch.tensor(encoder(text),dtype = torch.long)\n",
    "print(tensor.dtype,tensor.shape)\n",
    "print(tensor[:1000])"
   ]
  },
  {
   "cell_type": "code",
   "execution_count": null,
   "metadata": {},
   "outputs": [],
   "source": [
    "block_size = 12\n",
    "batch_siz = 6\n"
   ]
  }
 ],
 "metadata": {
  "kernelspec": {
   "display_name": "venv",
   "language": "python",
   "name": "python3"
  },
  "language_info": {
   "codemirror_mode": {
    "name": "ipython",
    "version": 3
   },
   "file_extension": ".py",
   "mimetype": "text/x-python",
   "name": "python",
   "nbconvert_exporter": "python",
   "pygments_lexer": "ipython3",
   "version": "3.11.0"
  },
  "orig_nbformat": 4
 },
 "nbformat": 4,
 "nbformat_minor": 2
}
